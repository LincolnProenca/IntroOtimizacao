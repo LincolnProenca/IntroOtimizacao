{
 "cells": [
  {
   "cell_type": "markdown",
   "metadata": {},
   "source": [
    "<h1 style=\"text-align:center;\">Introdução à Otimização &ndash; Professor Amit Bhaya &ndash; 2023/2</h1>\n",
    "<h2 style=\"text-align:center;\">Lista 1</h2>\n",
    "<h2 style=\"text-align:center;\">Entrega: 04 de setembro de 2023"
   ]
  },
  {
   "cell_type": "code",
   "execution_count": 32,
   "metadata": {},
   "outputs": [
    {
     "name": "stderr",
     "output_type": "stream",
     "text": [
      "\u001b[32m\u001b[1m   Resolving\u001b[22m\u001b[39m package versions...\n",
      "\u001b[32m\u001b[1m  No Changes\u001b[22m\u001b[39m to `C:\\Users\\linco\\.julia\\environments\\v1.9\\Project.toml`\n",
      "\u001b[32m\u001b[1m  No Changes\u001b[22m\u001b[39m to `C:\\Users\\linco\\.julia\\environments\\v1.9\\Manifest.toml`\n",
      "\u001b[32m\u001b[1m   Resolving\u001b[22m\u001b[39m package versions...\n",
      "\u001b[32m\u001b[1m  No Changes\u001b[22m\u001b[39m to `C:\\Users\\linco\\.julia\\environments\\v1.9\\Project.toml`\n",
      "\u001b[32m\u001b[1m  No Changes\u001b[22m\u001b[39m to `C:\\Users\\linco\\.julia\\environments\\v1.9\\Manifest.toml`\n",
      "\u001b[32m\u001b[1m   Resolving\u001b[22m\u001b[39m package versions...\n",
      "\u001b[32m\u001b[1m  No Changes\u001b[22m\u001b[39m to `C:\\Users\\linco\\.julia\\environments\\v1.9\\Project.toml`\n",
      "\u001b[32m\u001b[1m  No Changes\u001b[22m\u001b[39m to `C:\\Users\\linco\\.julia\\environments\\v1.9\\Manifest.toml`\n"
     ]
    },
    {
     "name": "stderr",
     "output_type": "stream",
     "text": [
      "\u001b[32m\u001b[1m  No Changes\u001b[22m\u001b[39m to `C:\\Users\\linco\\.julia\\environments\\v1.9\\Project.toml`\n",
      "\u001b[32m\u001b[1m  No Changes\u001b[22m\u001b[39m to `C:\\Users\\linco\\.julia\\environments\\v1.9\\Manifest.toml`\n"
     ]
    },
    {
     "name": "stderr",
     "output_type": "stream",
     "text": [
      "\u001b[32m\u001b[1m   Resolving\u001b[22m\u001b[39m package versions...\n"
     ]
    },
    {
     "name": "stderr",
     "output_type": "stream",
     "text": [
      "\u001b[32m\u001b[1m  No Changes\u001b[22m\u001b[39m to `C:\\Users\\linco\\.julia\\environments\\v1.9\\Project.toml`\n",
      "\u001b[32m\u001b[1m  No Changes\u001b[22m\u001b[39m to `C:\\Users\\linco\\.julia\\environments\\v1.9\\Manifest.toml`\n"
     ]
    }
   ],
   "source": [
    "import Pkg\n",
    "Pkg.add(\"Clp\")\n",
    "Pkg.add(\"JuMP\")\n",
    "Pkg.add(\"PyPlot\")"
   ]
  },
  {
   "cell_type": "code",
   "execution_count": 65,
   "metadata": {},
   "outputs": [
    {
     "name": "stdout",
     "output_type": "stream",
     "text": [
      "  0.001807 seconds (309 allocations: 21.969 KiB)\n",
      "  0.002151 seconds (309 allocations: 21.969 KiB)\n",
      "  0.001666 seconds (309 allocations: 21.969 KiB)\n"
     ]
    }
   ],
   "source": [
    "@time using Clp\n",
    "@time using JuMP\n",
    "@time using PyPlot"
   ]
  },
  {
   "cell_type": "code",
   "execution_count": 34,
   "metadata": {},
   "outputs": [
    {
     "name": "stdout",
     "output_type": "stream",
     "text": [
      "Julia Version 1.9.3\n",
      "Commit bed2cd540a (2023-08-24 14:43 UTC)\n",
      "Build Info:\n",
      "  Official https://julialang.org/ release\n",
      "Platform Info:\n",
      "  OS: Windows (x86_64-w64-mingw32)\n",
      "  CPU: 8 × AMD FX(tm)-8350 Eight-Core Processor           \n",
      "  WORD_SIZE: 64\n",
      "  LIBM: libopenlibm\n",
      "  LLVM: libLLVM-14.0.6 (ORCJIT, bdver1)\n",
      "  Threads: 2 on 8 virtual cores\n"
     ]
    }
   ],
   "source": [
    "versioninfo()"
   ]
  },
  {
   "cell_type": "markdown",
   "metadata": {},
   "source": [
    "## Problema 1: \n",
    "\n",
    "Considere o problema de otimização abaixo:\n",
    "\n",
    "\\begin{align}\n",
    "& \\text{maximize}_{u,v,w} \\quad -u + v - w \\\\\n",
    "& \\text{sujeito a} \\quad -5u + 5v + 3w \\leq 10 \\\\\n",
    "& \\qquad 5u - 5v - 3w \\leq 10 \\\\\n",
    "& \\qquad -2u + 2v - w \\leq -1 \\\\\n",
    "& \\qquad \\qquad w \\leq 3 \\\\\n",
    "& \\qquad u,v,w \\geq 0\n",
    "\\end{align}\n",
    " - Resolva o programa linear (PL), utilizando JuMP/Julia.\n",
    " - Transforme o PL abaixo à forma padrão $\\max {c}^\\top {x}$, sujeito a ${Ax}\\leq {b}, {x}\\geq 0$. Resolva de novo em JuMP, utilizando a forma padrão matricial. Compare as duas soluções obtidas."
   ]
  },
  {
   "cell_type": "markdown",
   "metadata": {},
   "source": [
    "### Solução do problem 1:"
   ]
  },
  {
   "cell_type": "code",
   "execution_count": 35,
   "metadata": {},
   "outputs": [
    {
     "data": {
      "text/latex": [
       "$$ \\begin{aligned}\n",
       "\\max\\quad & -u + v - w\\\\\n",
       "\\text{Subject to} \\quad & u \\geq 0\\\\\n",
       " & v \\geq 0\\\\\n",
       " & w \\geq 0\\\\\n",
       " & -5 u + 5 v + 3 w \\leq 10\\\\\n",
       " & 5 u - 5 v - 3 w \\leq 10\\\\\n",
       " & -2 u + 2 v - w \\leq -1\\\\\n",
       " & w \\leq 3\\\\\n",
       "\\end{aligned} $$"
      ]
     },
     "metadata": {},
     "output_type": "display_data"
    },
    {
     "name": "stdout",
     "output_type": "stream",
     "text": [
      "u = 1.00000000005e10\n",
      "v = 1.0e10\n",
      "w = 0.0\n",
      "objective: -0.5\n",
      "Coin0506I Presolve 3 (-4) rows, 3 (0) columns and 9 (-4) elements\n",
      "Clp0006I 0  Obj -0 Primal inf 0.499999 (1) Dual inf 0.999999 (1)\n",
      "Clp0006I 1  Obj -0.5\n",
      "Clp0000I Optimal - objective value -0.5\n",
      "Coin0511I After Postsolve, objective -0.5, infeasibilities - dual 0 (0), primal 0 (0)\n",
      "Clp0032I Optimal objective -0.5 - 1 iterations time 0.002, Presolve 0.00\n"
     ]
    },
    {
     "name": "stdout",
     "output_type": "stream",
     "text": [
      "objective: -0.5\n",
      "Coin0506I Presolve 3 (-4) rows, 3 (0) columns and 9 (-4) elements\n",
      "Clp0006I 0  Obj -0 Primal inf 0.499999 (1) Dual inf 0.999999 (1)\n",
      "Clp0006I 1  Obj -0.5\n",
      "Clp0000I Optimal - objective value -0.5\n",
      "Coin0511I After Postsolve, objective -0.5, infeasibilities - dual 0 (0), primal 0 (0)\n",
      "Clp0032I Optimal objective -0.5 - 1 iterations time 0.002, Presolve 0.00\n"
     ]
    }
   ],
   "source": [
    "using JuMP, Clp\n",
    "\n",
    "m = Model(Clp.Optimizer)\n",
    "@variable(m, u )\n",
    "@variable(m, v )\n",
    "@variable(m, w )\n",
    "@constraint(m, -5*u + 5*v + 3*w <= 10 )\n",
    "@constraint(m, 5*u + -5*v - 3*w <= 10 )\n",
    "@constraint(m, -2*u + 2*v - w <= -1 )\n",
    "@constraint(m, w <= 3 )\n",
    "@constraint(m, u >= 0 )\n",
    "@constraint(m, v >= 0 )\n",
    "@constraint(m, w >= 0 )\n",
    "@objective(m, Max, -u + v - w )\n",
    "print(m)\n",
    "optimize!(m)\n",
    "\n",
    "println(\"u = \", JuMP.value(u))\n",
    "println(\"v = \", JuMP.value(v))\n",
    "println(\"w = \", JuMP.value(w))\n",
    "println(\"objective: \", JuMP.objective_value(m))\n"
   ]
  },
  {
   "cell_type": "code",
   "execution_count": 36,
   "metadata": {},
   "outputs": [
    {
     "name": "stdout",
     "output_type": "stream",
     "text": [
      "Coin0506I Presolve 3 (0) rows, 3 (0) columns and 9 (0) elements\n",
      "Clp0006I 0  Obj 0 Primal inf 0.4999999 (1) Dual inf 0.9999999 (1)\n",
      "Clp0006I 1  Obj -0.5\n",
      "Clp0000I Optimal - objective value -0.5\n",
      "Clp0032I Optimal objective -0.5 - 1 iterations time 0.002\n"
     ]
    },
    {
     "data": {
      "text/latex": [
       "$$ \\begin{aligned}\n",
       "\\max\\quad & -x_{1} + x_{2} - x_{3}\\\\\n",
       "\\text{Subject to} \\quad & -5 x_{1} + 5 x_{2} + 3 x_{3} \\leq 10\\\\\n",
       " & 5 x_{1} - 5 x_{2} - 3 x_{3} \\leq 10\\\\\n",
       " & -2 x_{1} + 2 x_{2} - x_{3} \\leq -1\\\\\n",
       " & x_{1} \\geq 0\\\\\n",
       " & x_{2} \\geq 0\\\\\n",
       " & x_{3} \\geq 0\\\\\n",
       "\\end{aligned} $$"
      ]
     },
     "metadata": {},
     "output_type": "display_data"
    },
    {
     "name": "stdout",
     "output_type": "stream",
     "text": [
      "x = [1.00000000005e10, 1.0e10, 0.0]\n",
      "objective: -0.5\n"
     ]
    },
    {
     "name": "stdout",
     "output_type": "stream",
     "text": [
      "[1.00000000005e10, 1.0e10, 0.0]\n",
      "objective: -0.5\n",
      "Coin0506I Presolve 3 (0) rows, 3 (0) columns and 9 (0) elements\n",
      "Clp0006I 0  Obj 0 Primal inf 0.4999999 (1) Dual inf 0.9999999 (1)\n",
      "Clp0006I 1  Obj -0.5\n",
      "Clp0000I Optimal - objective value -0.5\n",
      "Clp0032I Optimal objective -0.5 - 1 iterations time 0.002\n"
     ]
    }
   ],
   "source": [
    "#vector x = [u; v; w]\n",
    "A = [-5 5 3; 5 -5 -3; -2 2 -1]\n",
    "b = [10; 10; -1]\n",
    "c = [-1; 1; -1]\n",
    "\n",
    "using JuMP, Clp\n",
    "using LinearAlgebra\n",
    "\n",
    "m = Model(Clp.Optimizer)\n",
    "@variable(m, x[1:3] >= 0 )      # specify a vector variable\n",
    "@constraint(m, A*x .<= b )      # the dot in front of <=, which indicates element-wise (vector) inequalities\n",
    "@objective(m, Max, dot(c,x) )   # must use dot(c,x) or (c'*x)[1] to return a scalar\n",
    "\n",
    "optimize!(m)\n",
    "print(m)\n",
    "\n",
    "println(\"x = \", JuMP.value.(x))\n",
    "println(\"objective: \", JuMP.objective_value(m))"
   ]
  },
  {
   "cell_type": "markdown",
   "metadata": {},
   "source": [
    "## Problema 2: \n",
    "\n",
    "Considere o LP\n",
    "\\begin{align}\n",
    "& \\text{minimize}\\quad c_1 x_1 + c_2 x_2 + c_3 x_3 \\\\\n",
    "& \\text{sujeito a}\\quad x_1 + x_2 \\geq 1 \\\\\n",
    "& \\qquad x_1 + 2x_2 \\leq 3 \\\\\n",
    "& \\qquad x_1,x_2,x_3 \\geq 0\n",
    "\\end{align}\n",
    "Dê o valor ótimo e o conjunto ótimo para os seguintes valores de $c$: $c=(-1,0,1),c=(0,1,0),c=(0,0,-1)$."
   ]
  },
  {
   "cell_type": "markdown",
   "metadata": {},
   "source": [
    "### Solução do problema 2:"
   ]
  },
  {
   "cell_type": "code",
   "execution_count": 37,
   "metadata": {},
   "outputs": [
    {
     "name": "stdout",
     "output_type": "stream",
     "text": [
      "Coin0506I Presolve 0 (-2) rows, 0 (-3) columns and 0 (-4) elements\n",
      "Clp3002W Empty problem - 0 rows, 0 columns and 0 elements\n",
      "Clp0000I Optimal - objective value -3\n",
      "Coin0511I After Postsolve, objective -3, infeasibilities - dual 0 (0), primal 0 (0)\n",
      "Clp0032I Optimal objective -3 - 0 iterations time 0.002, Presolve 0.00\n"
     ]
    },
    {
     "data": {
      "text/latex": [
       "$$ \\begin{aligned}\n",
       "\\min\\quad & -x_{1} + x_{3}\\\\\n",
       "\\text{Subject to} \\quad & -x_{1} - x_{2} \\leq -1\\\\\n",
       " & x_{1} + 2 x_{2} \\leq 3\\\\\n",
       " & x_{1} \\geq 0\\\\\n",
       " & x_{2} \\geq 0\\\\\n",
       " & x_{3} \\geq 0\\\\\n",
       "\\end{aligned} $$"
      ]
     },
     "metadata": {},
     "output_type": "display_data"
    },
    {
     "name": "stdout",
     "output_type": "stream",
     "text": [
      "x = [3.0, 0.0, 0.0]\n",
      "objective: -3.0\n"
     ]
    }
   ],
   "source": [
    "# vector x = [x_1; x_2; x_3]\n",
    "\n",
    "A = [-1 -1 0; 1 2 0]\n",
    "b = [-1; 3]\n",
    "c1 = [-1; 0; 1]\n",
    "c2 = [0; 1; 0]\n",
    "c3 = [0; 0; -1]\n",
    "\n",
    "using JuMP, Clp\n",
    "using LinearAlgebra\n",
    "\n",
    "m = Model(Clp.Optimizer)\n",
    "@variable(m, x[1:3] >= 0 )      # specify a vector variable\n",
    "@constraint(m, A*x .<= b )      # the dot in front of <=, which indicates element-wise (vector) inequalities\n",
    "@objective(m, Min, dot(c1,x) )   # must use dot(c,x) or (c'*x)[1] to return a scalar\n",
    "optimize!(m)\n",
    "print(m)\n",
    "\n",
    "println(\"x = \", JuMP.value.(x))\n",
    "println(\"objective: \", JuMP.objective_value(m))"
   ]
  },
  {
   "cell_type": "code",
   "execution_count": 38,
   "metadata": {},
   "outputs": [
    {
     "name": "stdout",
     "output_type": "stream",
     "text": [
      "Coin0506I Presolve 0 (-2) rows, 0 (-3) columns and 0 (-4) elements\n",
      "Clp3002W Empty problem - 0 rows, 0 columns and 0 elements\n",
      "Clp0000I Optimal - objective value 0\n",
      "Coin0511I After Postsolve, objective 0, infeasibilities - dual 0 (0), primal 0 (0)\n",
      "Clp0032I Optimal objective 0 - 0 iterations time 0.002, Presolve 0.00\n"
     ]
    },
    {
     "data": {
      "text/latex": [
       "$$ \\begin{aligned}\n",
       "\\min\\quad & x_{2}\\\\\n",
       "\\text{Subject to} \\quad & -x_{1} - x_{2} \\leq -1\\\\\n",
       " & x_{1} + 2 x_{2} \\leq 3\\\\\n",
       " & x_{1} \\geq 0\\\\\n",
       " & x_{2} \\geq 0\\\\\n",
       " & x_{3} \\geq 0\\\\\n",
       "\\end{aligned} $$"
      ]
     },
     "metadata": {},
     "output_type": "display_data"
    },
    {
     "name": "stdout",
     "output_type": "stream",
     "text": [
      "x = [3.0, 0.0, 0.0]\n",
      "objective: 0.0\n"
     ]
    }
   ],
   "source": [
    "@objective(m, Min, dot(c2,x) )   # must use dot(c,x) or (c'*x)[1] to return a scalar\n",
    "optimize!(m)\n",
    "print(m)\n",
    "\n",
    "println(\"x = \", JuMP.value.(x))\n",
    "println(\"objective: \", JuMP.objective_value(m))"
   ]
  },
  {
   "cell_type": "code",
   "execution_count": 39,
   "metadata": {},
   "outputs": [
    {
     "name": "stdout",
     "output_type": "stream",
     "text": [
      "Coin0508I Presolve thinks problem is unbounded\n",
      "Clp3003W Analysis indicates model infeasible or unbounded\n",
      "Clp0006I 0  Obj 0 Primal inf 0.9999999 (1) Dual inf 0.9999999 (1)\n",
      "Clp0006I 1  Obj -1e+10\n",
      "Clp0006I 1  Obj -5e+10\n",
      "Clp0002I Dual infeasible - objective value -5e+10\n",
      "Clp0032I DualInfeasible objective -5e+10 - 1 iterations time 0.002\n"
     ]
    },
    {
     "data": {
      "text/latex": [
       "$$ \\begin{aligned}\n",
       "\\min\\quad & -x_{3}\\\\\n",
       "\\text{Subject to} \\quad & -x_{1} - x_{2} \\leq -1\\\\\n",
       " & x_{1} + 2 x_{2} \\leq 3\\\\\n",
       " & x_{1} \\geq 0\\\\\n",
       " & x_{2} \\geq 0\\\\\n",
       " & x_{3} \\geq 0\\\\\n",
       "\\end{aligned} $$"
      ]
     },
     "metadata": {},
     "output_type": "display_data"
    },
    {
     "name": "stdout",
     "output_type": "stream",
     "text": [
      "x = [0.0, 0.0, 5.0e10]\n",
      "objective: -5.0e10\n"
     ]
    }
   ],
   "source": [
    "@objective(m, Min, dot(c3,x) )   # must use dot(c,x) or (c'*x)[1] to return a scalar\n",
    "optimize!(m)\n",
    "print(m)\n",
    "\n",
    "println(\"x = \", JuMP.value.(x))\n",
    "println(\"objective: \", JuMP.objective_value(m))"
   ]
  },
  {
   "cell_type": "markdown",
   "metadata": {},
   "source": [
    "## Problema 3 (Revisão de álgebra linear):\n",
    "\n",
    "Escreva as afirmações abaixo na linguagem de matrizes. Exemplo: A afirmação \"Toda coluna de $C$ é uma combinação linear das colunas de $B$ pode ser escrita em linguagem matricial como $C = BF$ para alguma matriz $F$. Observações: (i) Você pode supor que todas as matrizes que você utiliza têm as dimensões apropriadas; (ii) pode existir mais de uma resposta correta, basta dar qualquer uma!\n",
    "- (a) Para cada $i$, linha $i$ de $Z$ é uma combinação linear das linhas $i, \\ldots , n$ de $Y$.\n",
    "- (b) $W$ é obtida a partir da matriz $V$ permutando colunas pares e ímpares adjacentes (i.e., $1$ e $2$, $3$ e $4$, ...)\n",
    "- (c) Cada coluna de $P$ faz um ângulo agudo com cada coluna de $Q$.\n",
    "- (d) Cada coluna de $P$ faz um ângulo agudo com cada coluna correspondente de $Q$.\n",
    "- (e) As primeiras $k$ colunas de $A$ são ortogonais às demais colunas de $A$."
   ]
  },
  {
   "cell_type": "markdown",
   "metadata": {},
   "source": [
    "### Solução do problema 3:"
   ]
  },
  {
   "cell_type": "markdown",
   "metadata": {},
   "source": [
    "- (a) $Y^T = Z^TF$, para alguma matriz F.\n",
    "- (b) W = VP, onde P é uma matriz de permutação na qual cada elemento da diagonal é formada pela submatriz \n",
    "$\\begin{bmatrix}0 & 1 \\\\\n",
    "  1 & 0\n",
    "\\end{bmatrix}$\n",
    ", ou seja, $p_{ij} = 1$ para $i = j+1$ , se j é ímpar e $p_{ij} = 1$ para $i=j-1$ se j é par\n",
    "  \n",
    "- (c) Dado dois vetores $v_1$ e $v_2$, se o angulo formado entre por eles é agudo, temos que: $|v_1||v_2|cos(\\theta) = v_1 \\cdot v_2 > 0$. Expandindo isso, podemos escrever: $P^T Q = A$, para satisfazer a condição, temos que $ a_{ij} > 0 \\; \\forall i,j$.\n",
    "- (d) $P^TQ = A$, para satisfazer a condição, temos que $ a_{ij} > 0 \\; \\forall i=j$.\n",
    "- (e) $A^TA = B$, para satisfazer a condição, temos que $ b_{ij} = 0 \\; \\forall j \\leq k$."
   ]
  },
  {
   "cell_type": "markdown",
   "metadata": {},
   "source": [
    "## Problema 4 (Hiperplanos e semi-espaços):"
   ]
  },
  {
   "cell_type": "markdown",
   "metadata": {},
   "source": [
    "- (a) Deriva uma fórmula para a distância entre dois hiperplanos paralelos $\\{x \\in {\\mathbb R}^n : a^T x = b_1\\}$ e $\\{x \\in {\\mathbb R}^n : a^T x = b_2\\}$?\n",
    "- (b) Dê condições para que o semi-espaço $H_1 = \\{x \\in {\\mathbb R}^n : a_1^T x = b_1\\}$ esteja contido em $H_2 = \\{x \\in {\\mathbb R}^n : a_2^T x = b_2\\}$, justificando sua resposta."
   ]
  },
  {
   "cell_type": "markdown",
   "metadata": {},
   "source": [
    "### Solução do problema 4:\n"
   ]
  },
  {
   "cell_type": "markdown",
   "metadata": {},
   "source": [
    "(a) Inicialmente, podemos escrever os planos como: <br> <br>\n",
    "$\n",
    "a^T x_1 = b1 \\\\\n",
    "a^T x_2 = b2 \\\\\n",
    "$\n",
    "Dessa forma, subtraindo as equações, temos que: <br>\n",
    "$\n",
    "a^T x_1 - a^T x_2 = b1 - b2 \\\\\n",
    "a^T(x_1 - x_2) = b1 - b2 \\\\\n",
    "$\n",
    "Tirando o módulo dos dois lados para encontrar a distência escalar, ficamos com: <br>\n",
    "$\n",
    "|a^T| |x_1 - x_2| = |b1 - b2| \\\\\n",
    "|x_1 - x_2| = \\frac{|b1 - b2|}{|a^T| } \\\\\n",
    "$\n",
    "<br>\n",
    "(b) Como os espaços são descritos abaixo de planos, a única forma de $H_1$ estar contido em $H_2$ é caso o plano definido por $H_1$ coincida com H_2 ou fique abaixo. Além disso, para que os planos não se intersectem e, portanto, H_1 fique fora de H_2 os planos devem ser paralelos. Nesse sentido, para satisfazer essas proposições temos que: <br> <br>\n",
    "$\n",
    "a_1^T = k a_2^T, \\; para \\; k \\in \\R \\; e \\\\\n",
    "b_1 \\leq b_2, \n",
    "$"
   ]
  },
  {
   "cell_type": "markdown",
   "metadata": {},
   "source": [
    "## Problema 5 (Poliédros): \n",
    "\n",
    "Quais dos conjuntos $S$ definidos abaixo são poliédros? Se possível, escreva $S$ na forma $S = \\{x : Ax \\leq b, Cx = d\\}$.\n",
    "- (a) $S = \\{y_1 a_1 + y_2 a_2 : -1 \\leq y_1 \\leq 1, -1 \\leq y_2 \\leq 1 \\}$, sendo $a_1, a_2$ vetores linearmente independentes em ${\\mathbb R}^n$.\n",
    "- (b) $S = \\{x \\in {\\mathbb R}^n : x \\geq 0, {\\mathbb 1}^T x = 1, \\sum_{i=1}^n x_i a_i = b_1, \\sum_{i=1}^n x_i a_i^2 = b_2\\}$, sendo $a_1, \\ldots , a_n \\in {\\mathbb R}$ e $b_1,b_2 \\in {\\mathbb R}$.\n",
    "- (c) $S = \\{x \\in {\\mathbb R}^n : x \\geq 0,x^T y \\leq 1,~\\text{para todo}~y~\\text{tal que}~\\|y\\|_2 = 1 \\}$.\n",
    "- (d) $S = \\{x \\in {\\mathbb R}^n : x \\geq 0,x^T y \\leq 1,~\\text{para todo}~y~\\text{tal que}~\\|y\\|_1 = 1 \\}$."
   ]
  },
  {
   "cell_type": "markdown",
   "metadata": {},
   "source": [
    "### Solução do problem 5:\n",
    "\n",
    "\n"
   ]
  },
  {
   "cell_type": "code",
   "execution_count": null,
   "metadata": {},
   "outputs": [],
   "source": []
  },
  {
   "cell_type": "markdown",
   "metadata": {
    "collapsed": true,
    "jupyter": {
     "outputs_hidden": true
    }
   },
   "source": [
    "## Problema 6 (Centro de Chebyshev)\n",
    "Encontre o centro e o raio do maior círculo que possa ser inscrito no poliédro descrito pelas inequações $Ax \\leq b$, sendo $x \\in {\\mathbb R}^2$, $A = \\begin{bmatrix} -0.26 & 0.97\\\\0.42 & -0.91\\\\0.91 & 0.42\\\\-0.82 & - 0.57\\end{bmatrix}$ e $b = \\begin{bmatrix} 5.0\\\\1.0\\\\8.0\\\\-1.5\\end{bmatrix}$. O que acontece (à solução encontrada pelo JuMP) se acresecentar a inequação $[1 \\quad 0] \\leq -3$ às quatro inequações já especificadas (i.e., $Ax\\leq b$)? Explique sua resposta."
   ]
  },
  {
   "cell_type": "markdown",
   "metadata": {},
   "source": [
    "### Solução do problem 6:"
   ]
  },
  {
   "cell_type": "code",
   "execution_count": 40,
   "metadata": {},
   "outputs": [
    {
     "name": "stdout",
     "output_type": "stream",
     "text": [
      "x = [2.8762644746445765, 3.1651832449534725]\n",
      "r = 2.6662932476616845\n",
      "Coin0506I Presolve 4 (0) rows, 3 (0) columns and 12 (0) elements\n",
      "Clp0006I 0  Obj 0 Primal inf 1.502029 (1) Dual inf 0.9999999 (1)\n",
      "Clp0006I 3  Obj 0.15306835\n",
      "Clp0006I 3  Obj 2.0551273e+10 Primal inf 8.151635e+10 (2)\n",
      "Clp0006I 6  Obj 2.6662932\n",
      "Clp0000I Optimal - objective value 2.6662932\n",
      "Clp0032I Optimal objective 2.666293248 - 6 iterations time 0.002\n"
     ]
    }
   ],
   "source": [
    "A = [-0.26 0.97; 0.42 -0.91; 0.91 0.42; -0.82 -0.57]\n",
    "b = [5; 1; 8; -1.5]\n",
    "\n",
    "m = Model(Clp.Optimizer)\n",
    "@variable(m, r >= 0)           # radius\n",
    "@variable(m, x[1:2]) # coordinates of center\n",
    "for i = 1:size(A,1)\n",
    "    @constraint(m, dot(A[i,:],x) + r*norm(A[i,:]) <= b[i])\n",
    "end\n",
    "@objective(m, Max, r)     # maximize radius\n",
    "\n",
    "optimize!(m)\n",
    "\n",
    "println(\"x = \", JuMP.value.(x)) \n",
    "println(\"r = \", JuMP.value(r))"
   ]
  },
  {
   "cell_type": "markdown",
   "metadata": {},
   "source": [
    "## Problema 7 (Geometria de LP)\n",
    "\n",
    "- (a) Determine se $\\bar{x} = (1,1,1,1)$ é vértice do poliédro $P$ definido pelas desigualdades lineares:\n",
    "$$\n",
    "\\begin{bmatrix} -1 & -6 & 1 & 3\\\\-1 & -2 & 7 & 1\\\\0 & 3 & -10 & -1\\\\-6 & -11 & -2 & 12\\\\1 & 6 & -1 & -3\\end{bmatrix} \\begin{bmatrix} x_1 \\\\ x_2 \\\\ x_3 \\\\ x_4 \\end{bmatrix} \\leq \\begin{bmatrix} -3 \\\\ 5 \\\\ -8 \\\\ -7 \\\\ 4 \\end{bmatrix}\n",
    "$$\n",
    "- Se sim, determine um vetor $c$ tal que $\\bar{x}$ seja o minmizador único de $c^T x$ sobre $P$.\n",
    "- (b) mesma pergunta para o poliédro definido pelas desigualdades\n",
    "$$\n",
    "\\begin{bmatrix} 0 & -5 & -2 & -5\\\\-7 & -7 & -2 & -2\\\\-4 & -4 & -7 & -7\\\\-8 & -3 & -3 & -4\\\\-4 & -4 & 2 & -2\\end{bmatrix} \\begin{bmatrix} x_1 \\\\ x_2 \\\\ x_3 \\\\ x_4 \\end{bmatrix} \\leq \\begin{bmatrix} -12 \\\\ -17 \\\\ -22 \\\\ -18 \\\\ -8 \\end{bmatrix}\n",
    "$$\n",
    "e, adicionalmente, a igualdade $8x_1 - 7x_2 - 10x_3 -11x_4 = -20$."
   ]
  },
  {
   "cell_type": "markdown",
   "metadata": {},
   "source": [
    "### Solução do problem 7:"
   ]
  },
  {
   "cell_type": "markdown",
   "metadata": {},
   "source": [
    "(a) Para que $\\bar{x}$ seja vértice do poliedro em questão, ele deve satisfazer 4 igualdades de Ax=b e, ao mesmo tempo, satisfazer a desigualdade que sobrou."
   ]
  },
  {
   "cell_type": "code",
   "execution_count": 41,
   "metadata": {},
   "outputs": [
    {
     "name": "stdout",
     "output_type": "stream",
     "text": [
      "A*x = [-3, 5, -8, -7, 3]\n",
      "b = [-3, 5, -8, -7, 4]\n"
     ]
    }
   ],
   "source": [
    "x = [ 1; 1; 1; 1]\n",
    "A = [-1 -6 1 3; -1 -2 7 1; 0 3 -10 -1; -6 -11 -2 12; 1 6 -1 -3]\n",
    "b = [-3; 5; -8; -7; 4]\n",
    "\n",
    "#Testando a igualdade\n",
    "println(\"A*x = \", A*x)\n",
    "println(\"b = \", b)"
   ]
  },
  {
   "cell_type": "markdown",
   "metadata": {},
   "source": [
    "É possível observar que os 4 primeiros componentes do vetor Ax são iguais ao de b e o último satisfaz a desigualdade uma vez que 3 < 4"
   ]
  },
  {
   "cell_type": "markdown",
   "metadata": {},
   "source": [
    "(b) Repetindo para a nova matriz"
   ]
  },
  {
   "cell_type": "code",
   "execution_count": 42,
   "metadata": {},
   "outputs": [
    {
     "name": "stdout",
     "output_type": "stream",
     "text": [
      "A*x = [-12, -18, -22, -18, -8]\n",
      "b = [-12, -17, -22, -18, -8]\n",
      "8x_1 - 7x_2 - 10x_3 -11x_4 = -20 = -20\n"
     ]
    }
   ],
   "source": [
    "x = [ 1; 1; 1; 1]\n",
    "A = [ 0  -5  -2  -5;\n",
    "     -7  -7  -2  -2;\n",
    "     -4  -4  -7  -7;\n",
    "     -8  -3  -3  -4;\n",
    "     -4  -4   2  -2]\n",
    "b = [-12; -17; -22; -18; -8]\n",
    "add = [8 -7 -10 -11]\n",
    "\n",
    "#Testando a igualdade\n",
    "println(\"A*x = \", A*x)\n",
    "println(\"b = \", b)\n",
    "println(\"8x_1 - 7x_2 - 10x_3 -11x_4 = -20 = \" , dot(add,x))"
   ]
  },
  {
   "cell_type": "markdown",
   "metadata": {},
   "source": [
    "É possível observar que 4  componentes do vetor Ax são iguais ao de b e o não igual satisfaz a desigualdade uma vez que 3 < 4. Além disso, o vetor x satisfaz a equação requisitada"
   ]
  },
  {
   "cell_type": "markdown",
   "metadata": {},
   "source": [
    "## Problema 8 (Grid elétrico com armazenamento de energia)\n",
    "\n",
    "A cidade Varre-Sai compra sua energia elétrica da utilidade Ampla que cobre por hora. Se for utilizado menos de 50MWh durante uma determinada hora do dia,  o custo é 100 reais por MWh. Qualquer excedente (além de 50 MWh) durante esta hora custa 400 reais por MWh. A energia máxima que Ampla pode fornecer (em qualquer intervalo de uma hora) é 75 MWh. As tabelas abaixo mostram a demanda diária média hora a hora para a cidade Varre-Sai durante o mes de janeiro.\n",
    "\n",
    "| Hora do dia (manhã) | 01 | 02 | 03 | 04 | 05 | 06 | 07 | 08 | 09 | 10| 11| 12|\n",
    "|:-------------------:|:-:|:-:|:-:|:-:|:-:|:-:|:-:|:-:|:-:|:-:|:-:|:-:|\n",
    "| Demanda (MWh)       | 43| 40| 36| 36| 35| 38| 41| 46| 49| 48| 47| 47|\n",
    "\n",
    "| Hora do dia ( tarde )| 13| 14| 15| 16| 17| 18| 19| 20| 21| 22| 23| 24|\n",
    "|:-------------------:|:-:|:-:|:-:|:-:|:-:|:-:|:-:|:-:|:-:|:-:|:-:|:-:|\n",
    "| Demanda (MWh)       | 48| 46| 45| 47| 50| 63| 75| 75| 72| 66| 57| 50|\n",
    "\n",
    "O prefeito de Varre-Sai está preocupado com o gasto alto na parte da tarde e o risco de blecautes por volta de 19h por conta da demanda média alta (perigosamente) próxima ao limite de 75 MWh estipulado pela Ampla.\n",
    "\n",
    "Para contornar estes problemas potenciais, o prefeito comprou uma bateria grande com capacidade de armazenamento de 30 MWh. A ideia seria comprar mais energia (do que a demanda na primeira parte do dia, quando energia custa menos), armazenar na bateria e utilizar nos horários de pico mais tarde, quando tanto a demanda como o preço atingem valores altos.\n",
    "1. Quanto dinheiro a cidade de Varre-Sai poderia economizar graças a bateria? Suponha que a bateria começa o dia completamente descarregada, e que, para maior segurança em relação aos  blecautes, limita-se a 65 MWh a quantidade de eletricidade comprada por hora.\n",
    "2. Quanto dinheiro seria economizado se a bateria tivesse capacidade infinita?\n",
    "3. Plote um gráfico que mostra:\n",
    "     1. a demanda de energia típica (da tabela) versus a hora do dia.\n",
    "     2. a eletricidade comprada utilizando a estratégia encontrada no item 1 versus a hora do dia (plote ambos os gráficos nos mesmos eixos)."
   ]
  },
  {
   "cell_type": "markdown",
   "metadata": {},
   "source": [
    "### Solução do problem 8:"
   ]
  },
  {
   "cell_type": "markdown",
   "metadata": {},
   "source": [
    "1. Quanto dinheiro a cidade de Varre-Sai poderia economizar graças a bateria? Suponha que a bateria começa o dia completamente descarregada, e que, para maior segurança em relação aos  blecautes, limita-se a 65 MWh a quantidade de eletricidade comprada por hora."
   ]
  },
  {
   "cell_type": "code",
   "execution_count": 64,
   "metadata": {},
   "outputs": [
    {
     "name": "stdout",
     "output_type": "stream",
     "text": [
      "Custo sem o uso de bateria: 152400\n",
      "Custo com o uso de bateria: 143400.0\n",
      "Economia:                   9000.0\n",
      "\n",
      "Coin0506I Presolve 20 (-5) rows, 61 (-11) columns and 80 (-17) elements\n",
      "Clp0006I 0  Obj 71629.993 Primal inf 704.80002 (20) Dual inf 99.999999 (1)\n",
      "Clp0006I 31  Obj 138419.99 Primal inf 143.80001 (9)\n",
      "Clp0006I 49  Obj 143400\n",
      "Clp0000I Optimal - objective value 143400\n",
      "Coin0511I After Postsolve, objective 143400, infeasibilities - dual 0 (0), primal 0 (0)\n",
      "Clp0032I Optimal objective 143400 - 49 iterations time 0.002, Presolve 0.00\n"
     ]
    }
   ],
   "source": [
    "# Constantes do problema\n",
    "preco   = 100 # preço normal por hora\n",
    "excedente  = 400 # acima de 50MWh\n",
    "demanda = [43, 40, 36, 36, 35, 38, 41, 46, 49, 48, 47, 47, 48, 46, 45, 47, 50, 63, 75, 75, 72, 66, 57, 50]\n",
    "lim_bateria = 30\n",
    "\n",
    "m = Model(Clp.Optimizer)\n",
    "# Bateria\n",
    "@variable(m, 0 <= bateria[1:24] <= 30) # carga inicial + 24 horas -> com limite para a carga da bateria de 30MWh\n",
    "@constraint(m, bateria[1] == 0) # A bateria começa o dia sem carga\n",
    "\n",
    "# Energia\n",
    "# A compra máxima de energias não pode ultrapassar 65MWh \n",
    "@variable(m, 0 <= compra_normal[1:24] <= 50) # energia comprada no preço normal -> 100 \n",
    "@variable(m, 0 <= compra_exc[1:24] <= 15) # energia comprada no preço mais caro -> 400 \n",
    "# A energia comprada + a bateria deve ser igual ao gasto da demanda + a bateria do dia seguinte (conservação)\n",
    "@constraint(m, [i in 1:23], compra_normal[i] + compra_exc[i] + bateria[i] == demanda[i] + bateria[i+1]) \n",
    "@constraint(m, compra_normal[24] + compra_exc[24] + bateria[24] == demanda[24] + bateria[1]) \n",
    "# Objetivo\n",
    "@objective(m, Min, sum(compra_normal*preco) + sum(compra_exc*excedente)) # minimiza o custo total com o uso da bateria  \n",
    "optimize!(m)\n",
    "\n",
    "# Comparando o custo com e sem o uso da bateria\n",
    "custo = 0\n",
    "for i in demanda\n",
    "    if i <= 50\n",
    "        custo += i*preco\n",
    "    else \n",
    "        custo += (i-50)*excedente + 50*preco\n",
    "    end \n",
    "end\n",
    "\n",
    "println(\"Custo sem o uso de bateria: \", custo)\n",
    "println(\"Custo com o uso de bateria: \", JuMP.objective_value.(m))\n",
    "println(\"Economia:                   \", custo - JuMP.objective_value.(m)) \n",
    "println()"
   ]
  },
  {
   "cell_type": "code",
   "execution_count": 62,
   "metadata": {},
   "outputs": [
    {
     "data": {
      "image/png": "[encoded data removed]",
      "text/plain": [
       "Figure(PyObject <Figure size 640x480 with 1 Axes>)"
      ]
     },
     "metadata": {},
     "output_type": "display_data"
    },
    {
     "data": {
      "text/plain": [
       "PyObject Text(0.5, 1.0, 'Demanda/h vs Energia comprada/h')"
      ]
     },
     "execution_count": 62,
     "metadata": {},
     "output_type": "execute_result"
    }
   ],
   "source": [
    "using PyPlot\n",
    "# Plotando os gráficos do problema\n",
    "clf()\n",
    "t = range(start = 1; stop=24, length=24)\n",
    "plot(t, demanda, label=\"Demanda de energia\")\n",
    "plot(t, JuMP.value.(compra_normal) .+ JuMP.value.(compra_exc), label=\"Eletricidade comprada\")\n",
    "plot(t, JuMP.value.(bateria), label=\"Bateria\")\n",
    "xlabel(\"Horários do dia\")\n",
    "ylabel(\"MWh\")\n",
    "legend()\n",
    "title(\"Demanda/h vs Energia comprada/h\")"
   ]
  },
  {
   "cell_type": "markdown",
   "metadata": {},
   "source": [
    "Bateria Infinita"
   ]
  },
  {
   "cell_type": "code",
   "execution_count": 66,
   "metadata": {},
   "outputs": [
    {
     "name": "stdout",
     "output_type": "stream",
     "text": [
      "Custo sem o uso de bateria: 152400\n",
      "Custo com o uso de bateria: 120000.0\n",
      "Economia:                   32400.0\n",
      "\n",
      "Coin0506I Presolve 17 (-8) rows, 51 (-21) columns and 67 (-30) elements\n",
      "Clp0006I 0  Obj 9369.9955 Primal inf 1106.3 (17) Dual inf 99.999999 (1)\n",
      "Clp0006I 31  Obj 120000 Primal inf 199.99999 (11)\n",
      "Clp0006I 45  Obj 120000\n",
      "Clp0000I Optimal - objective value 120000\n",
      "Coin0511I After Postsolve, objective 120000, infeasibilities - dual 0 (0), primal 0 (0)\n",
      "Clp0032I Optimal objective 120000 - 45 iterations time 0.002, Presolve 0.00\n"
     ]
    }
   ],
   "source": [
    "# Constantes do problema\n",
    "preco   = 100 # preço normal por hora\n",
    "excedente  = 400 # acima de 50MWh\n",
    "demanda = [43, 40, 36, 36, 35, 38, 41, 46, 49, 48, 47, 47, 48, 46, 45, 47, 50, 63, 75, 75, 72, 66, 57, 50]\n",
    "lim_bateria = 30\n",
    "\n",
    "m = Model(Clp.Optimizer)\n",
    "# Bateria\n",
    "@variable(m, 0 <= bateria[1:24]) # carga inicial + 24 horas -> bateria infinita\n",
    "@constraint(m, bateria[1] == 0) # A bateria começa o dia sem carga\n",
    "\n",
    "# Energia\n",
    "# A compra máxima de energias não pode ultrapassar 65MWh \n",
    "@variable(m, 0 <= compra_normal[1:24] <= 50) # energia comprada no preço normal -> 100 \n",
    "@variable(m, 0 <= compra_exc[1:24] <= 15) # energia comprada no preço mais caro -> 400 \n",
    "# A energia comprada + a bateria deve ser igual ao gasto da demanda + a bateria do dia seguinte (conservação)\n",
    "@constraint(m, [i in 1:23], compra_normal[i] + compra_exc[i] + bateria[i] == demanda[i] + bateria[i+1]) \n",
    "@constraint(m, compra_normal[24] + compra_exc[24] + bateria[24] == demanda[24] + bateria[1]) \n",
    "# Objetivo\n",
    "@objective(m, Min, sum(compra_normal*preco) + sum(compra_exc*excedente)) # minimiza o custo total com o uso da bateria  \n",
    "optimize!(m)\n",
    "\n",
    "# Comparando o custo com e sem o uso da bateria\n",
    "custo = 0\n",
    "for i in demanda\n",
    "    if i <= 50\n",
    "        custo += i*preco\n",
    "    else \n",
    "        custo += (i-50)*excedente + 50*preco\n",
    "    end \n",
    "end\n",
    "\n",
    "println(\"Custo sem o uso de bateria: \", custo)\n",
    "println(\"Custo com o uso de bateria: \", JuMP.objective_value.(m))\n",
    "println(\"Economia:                   \", custo - JuMP.objective_value.(m)) \n",
    "println()"
   ]
  },
  {
   "cell_type": "code",
   "execution_count": 69,
   "metadata": {},
   "outputs": [
    {
     "data": {
      "image/png": "[encoded data removed]",
      "text/plain": [
       "Figure(PyObject <Figure size 640x480 with 1 Axes>)"
      ]
     },
     "metadata": {},
     "output_type": "display_data"
    },
    {
     "data": {
      "text/plain": [
       "PyObject Text(0.5, 1.0, 'Demanda/h vs Energia comprada/h')"
      ]
     },
     "execution_count": 69,
     "metadata": {},
     "output_type": "execute_result"
    }
   ],
   "source": [
    "using PyPlot\n",
    "# Plotando os gráficos do problema\n",
    "clf()\n",
    "t = range(start = 1; stop=24, length=24)\n",
    "plot(t, demanda, label=\"Demanda de energia\")\n",
    "plot(t, JuMP.value.(compra_normal) .+ JuMP.value.(compra_exc), label=\"Eletricidade comprada\")\n",
    "plot(t, JuMP.value.(bateria), label=\"Bateria\")\n",
    "\n",
    "xlabel(\"Horários do dia\")\n",
    "ylabel(\"MWh\")\n",
    "legend()\n",
    "title(\"Demanda/h vs Energia comprada/h\")"
   ]
  },
  {
   "cell_type": "markdown",
   "metadata": {},
   "source": [
    "## Problema 9 (Construção de um estádio esportivo [sob regime de anti-propina!])\n",
    "Uma cidade pequena deseja construir um estádio (também pequeno). Após licitação, uma empreiteira ganha o contrato e deseja cumprir a tarefa no menor tempo possível. Todas as grandes tarefas estão listadas na tabela abaixo. Algumas podem ser iniciadas apenas quando as tarefas predecessoras tiverem sido concluídas e esta dependência está registrada na quarta coluna.\n",
    "\n",
    "|Tarefa | Descrição | Duração (em semanas)| Tarefas predecessoras | Redução máxima (em semanas)| Custo da redução (R\\$1k/semana) |\n",
    "|:---:|:----------:|:------------------:|:------------:|:---------------------------:|:---------------------------:|\n",
    "|1 |Instalação no local de construção |2 | não há | 0 | -- |\n",
    "| 2| Terraplenagem | 16 | 1 | 3 | 30 |\n",
    "|3 |Construção da fundação | 9 | 2 | 1 | 26 |\n",
    "| 4 |Ruas de acesso e outras redes | 8 | 2 | 2 | 12 |\n",
    "| 5 | Construir o porão | 10 | 3 | 2 | 17 |\n",
    "| 6 | Piso principal | 6 | 4,5 | 1 | 15 |\n",
    "| 7 | Divisão do vestiário | 2 | 4 | 1 | 8 |\n",
    "| 8 | Instalação elétrica nas arquibancadas | 2 | 6 | 0 | -- |\n",
    "|9  | Construção da cobertura | 9 | 4,6 | 2 | 42 |\n",
    "|10 | Iluminação do estádio | 5 | 4 | 1 | 21 |\n",
    "| 11 | Instalações nas arquibancadas | 3 | 6 | 1 |18 |\n",
    "| 12 | Impermeabilização da cobertura | 2 | 9 | 0 | -- |\n",
    "| 13 | Acabamento do vestiário | 1 | 7 | 0 | -- |\n",
    "| 14 | Construção da bilheteria | 7 | 2 | 2 | 22 |\n",
    "| 15 | Ruas de acesso secundárias | 4 | 4,14 | 2 | 12 |\n",
    "|16  | Placar e altofalantes |3 | 8,11,14 | 1 | 6 |\n",
    "|17 | Gramado e acessórios para esportes | 9 | 12 | 3 | 16 |\n",
    "|18 | Entrega do estádio | 1 | 17 | 0 | -- |\n",
    "\n",
    "As perguntas que a empreiteira quer que sejam respondidas são as seguintes:\n",
    "1. Qual a data mais cedo para o término da construção? Note que as últimas duas colunas não são  relevantes para este item. \n",
    "2. Para algumas tarefas a empreiteira pode contratar operários extra e alugar mais equipamento para reduzir o tempo total. As últimas duas colunas mostram o número máximo de semanas poupadas por tarefa e o custo adicional associado por semana, por conta do trabalho extra. Plote um gráfico de compromisso (\"tradeoff\") mostrando o custo extra em função do número de semanas poupadas.\n",
    "3. A prefeitura da cidade gostaria que a obra fosse terminada antes da data combinada e anunciada (resposta do item  1). Como incentivo, a prefeitura propõe pagar um bônus de R\\$30k por cada semana de antecipação da data de término da obra. Quando terminará o projeto se a empreiteira deseja maximizar seu lucro?"
   ]
  },
  {
   "cell_type": "markdown",
   "metadata": {},
   "source": [
    "### Solução do problem 9:"
   ]
  },
  {
   "cell_type": "code",
   "execution_count": null,
   "metadata": {},
   "outputs": [],
   "source": []
  },
  {
   "cell_type": "markdown",
   "metadata": {},
   "source": [
    "## Problema 10: (Clássico: dieta ótima)"
   ]
  },
  {
   "cell_type": "markdown",
   "metadata": {},
   "source": [
    "Suponha que uma certa dieta alimentar esteja baseada nos alimentos (em parêntesis vemos as unidades utilizadas): \n",
    "leite desnatado (litro) , carne magra de boi (Kg), carne de frango (kg) e batata doce (100 g). \n",
    "Sabendo-se que os requisitos nutricionais serão expressos em termos de vitaminas A,C, e D e controlados por \n",
    "suas quantidades mínimas (em miligramas), uma vez que são indispensáveis à preservação da saúde da pessoa \n",
    "que estará se submetendo a dieta. A Tabela abaixo resume a quantidade de cada vitamina em disponibilidade \n",
    "**em cada unidade considerada dos alimentos**, sua necessidade diária para a boa saúde de uma pessoa e o custo \n",
    "(em reais) de cada unidade do alimento considerado. Modele e resolva o problema de forma a minimizar os gastos com a \n",
    "compra dos alimentos, obedecendo às quantidades mínimas recomendadas em relação às vitaminas.\n",
    "\n",
    "Tabela: Dados do problema da dieta\n",
    "\n",
    "|Alim.$\\rightarrow$|leite | carne |frango | batata | Qtd. Mín. |\n",
    "|------------------|------|-------|-------|--------|-----------|\n",
    "|Vit.$\\downarrow$ |  \n",
    "|A |2 |2 |5 |4 |11 |\n",
    "|C |50 | 20 | 10 | 45| 70 |\n",
    "|D |80 |70 |10 |60 |250|\n",
    "| |\n",
    "|Custo $\\rightarrow$ |5 |40 |20 |2 |\n",
    "\n",
    "\n"
   ]
  },
  {
   "cell_type": "markdown",
   "metadata": {},
   "source": [
    "### Solução do problem 10:"
   ]
  },
  {
   "cell_type": "code",
   "execution_count": 45,
   "metadata": {},
   "outputs": [
    {
     "name": "stdout",
     "output_type": "stream",
     "text": [
      "Coin0506I Presolve 3 (0) rows, 4 (0) columns and 12 (0) elements\n",
      "Clp0006I 0  Obj 0 Primal inf 6.7249997 (3)\n",
      "Clp0006I 1  Obj 8.3333333\n",
      "Clp0000I Optimal - objective value 8.3333333\n",
      "Clp0032I Optimal objective 8.333333333 - 1 iterations time 0.002\n"
     ]
    },
    {
     "data": {
      "text/latex": [
       "$$ \\begin{aligned}\n",
       "\\min\\quad & 5 x_{1} + 40 x_{2} + 20 x_{3} + 2 x_{4}\\\\\n",
       "\\text{Subject to} \\quad & 2 x_{1} + 2 x_{2} + 5 x_{3} + 4 x_{4} \\geq 11\\\\\n",
       " & 50 x_{1} + 20 x_{2} + 10 x_{3} + 45 x_{4} \\geq 70\\\\\n",
       " & 80 x_{1} + 70 x_{2} + 10 x_{3} + 60 x_{4} \\geq 250\\\\\n",
       " & x_{1} \\geq 0\\\\\n",
       " & x_{2} \\geq 0\\\\\n",
       " & x_{3} \\geq 0\\\\\n",
       " & x_{4} \\geq 0\\\\\n",
       "\\end{aligned} $$"
      ]
     },
     "metadata": {},
     "output_type": "display_data"
    },
    {
     "name": "stdout",
     "output_type": "stream",
     "text": [
      "x = [0.0, 0.0, 0.0, 4.166666666666666]\n",
      "objective: 8.333333333333332\n"
     ]
    }
   ],
   "source": [
    "# variaveis [leite,carne,frango,batata]\n",
    "\n",
    "using JuMP\n",
    "using Clp\n",
    "\n",
    "# Dados do problema\n",
    "A = [\n",
    "    2  2  5  4;\n",
    "    50 20 10 45;\n",
    "    80 70 10 60\n",
    "]\n",
    "b = [11, 70, 250]\n",
    "c= [5, 40, 20, 2]\n",
    "\n",
    "m = Model(Clp.Optimizer)\n",
    "@variable(m, x[1:4] >= 0 )      # specify a vector variable\n",
    "@constraint(m, A*x .>= b )      # the dot in front of <=, which indicates element-wise (vector) inequalities\n",
    "@objective(m, Min, dot(c,x) )   # must use dot(c,x) or (c'*x)[1] to return a scalar\n",
    "optimize!(m)\n",
    "print(m)\n",
    "\n",
    "println(\"x = \", JuMP.value.(x))\n",
    "println(\"objective: \", JuMP.objective_value(m))"
   ]
  }
 ],
 "metadata": {
  "@webio": {
   "lastCommId": null,
   "lastKernelId": null
  },
  "anaconda-cloud": {},
  "kernelspec": {
   "display_name": "Julia 1.9.3",
   "language": "julia",
   "name": "julia-1.9"
  },
  "language_info": {
   "file_extension": ".jl",
   "mimetype": "application/julia",
   "name": "julia",
   "version": "1.9.3"
  }
 },
 "nbformat": 4,
 "nbformat_minor": 4
}
